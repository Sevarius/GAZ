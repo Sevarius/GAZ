{
 "cells": [
  {
   "cell_type": "code",
   "execution_count": 68,
   "metadata": {},
   "outputs": [],
   "source": [
    "# импортируем библиотеки\n",
    "import pulp\n",
    "from pulp import *\n",
    "import random as r"
   ]
  },
  {
   "cell_type": "code",
   "execution_count": 69,
   "metadata": {},
   "outputs": [],
   "source": [
    "# начальные значения\n",
    "t0 = 5 # временные границы от 0 до t0\n",
    "N = 5 # число проектов\n",
    "B0 = [200, 200, 200, 300, 300] # бюджет по годам\n",
    "b0 = 1200 # суммарный бюджет"
   ]
  },
  {
   "cell_type": "code",
   "execution_count": 70,
   "metadata": {},
   "outputs": [],
   "source": [
    "# создаём имена переменных\n",
    "c_name = ['do_or_not_' + str(i+1) for i in range(N)] # переменные исключения проекта из портфеля\n",
    "x_name = ['proj_' + str(i+1) for i in range(N)] # переменные времени начала проекта\n",
    "x_i = [LpVariable(x_name[i], cat = 'Integer') for i in range(N)] # массив переменных библиотеки pulp\n",
    "c_i = [LpVariable(c_name[i], lowBound = 0, upBound = 1, cat='Binary') for i in range(N)] # массив переменных библиотеки pulp"
   ]
  },
  {
   "cell_type": "code",
   "execution_count": 71,
   "metadata": {},
   "outputs": [
    {
     "name": "stdout",
     "output_type": "stream",
     "text": [
      "[proj_1, proj_2, proj_3, proj_4, proj_5]\n",
      "[do_or_not_1, do_or_not_2, do_or_not_3, do_or_not_4, do_or_not_5]\n"
     ]
    }
   ],
   "source": [
    "print(x_i)\n",
    "print(c_i)"
   ]
  },
  {
   "cell_type": "code",
   "execution_count": 72,
   "metadata": {},
   "outputs": [
    {
     "name": "stdout",
     "output_type": "stream",
     "text": [
      "[[6, 5, 5, 5, 110, 293, 0, -1], [5, 4, 4, 5, 107, 268, 1, -1], [5, 3, 4, 1, 132, 253, 1, -1], [6, 2, 5, 3, 195, 241, 0, -1], [5, 0, 2, 4, 102, 300, 0, -1]]\n"
     ]
    }
   ],
   "source": [
    "# задаём рандомные значения для проектов\n",
    "table = []\n",
    "for i in range(N): # для каждого проекта задаём:\n",
    "    mini = [0, 0, 0, 0, 0, 0, 0, 0]\n",
    "    mini[0] = r.randint(1,6) # длительность\n",
    "    mini[1] = r.randint(0, t0) # начать не позже чем\n",
    "    mini[2] = r.randint(mini[1], t0) # закончить не позже чем\n",
    "    mini[3] = r.randint(0, 5) # лаг\n",
    "    mini[4] = r.randint(100, 200) # годовой расход\n",
    "    mini[5] = r.randint(200, 300) # годовой доход\n",
    "    mini[6] = r.randint(0, 1) # обязательный или необязательный проект\n",
    "    # задаём будет ли проект зависеть от других проектов (р=25%)\n",
    "    a = r.randint(0,4)\n",
    "    if (a == 0):\n",
    "        mini[7] = r.randint(1, N)\n",
    "    else:\n",
    "        mini[7] = -1\n",
    "    table.append(mini)\n",
    "print(table)"
   ]
  },
  {
   "cell_type": "code",
   "execution_count": 145,
   "metadata": {},
   "outputs": [
    {
     "name": "stdout",
     "output_type": "stream",
     "text": [
      "[1, 5, 5, 0, 200, -10, 1, -1]\n",
      "[2, 5, 5, 0, 150, 5, 0, 1]\n",
      "[4, 5, 5, 0, 100, 5, 0, -1]\n",
      "[3, 5, 5, 0, 200, 0, 0, 2]\n",
      "[2, 5, 5, 1, 200, 5, 0, 4]\n"
     ]
    }
   ],
   "source": [
    "# задаём начальные значения из таблицы\n",
    "s1 = [-10, 5, 5,0,5]\n",
    "s2 = [200, 150, 100, 200, 200]\n",
    "time = [1,2,4,3,2]\n",
    "for i in range(N):\n",
    "    table[i][0] = time[i]\n",
    "    table[i][1] = t0\n",
    "    table[i][2] = t0\n",
    "    table[i][3] = 0\n",
    "    table[i][6] = 0\n",
    "    table[i][4] = s2[i]\n",
    "    table[i][5] = s1[i]\n",
    "    table[i][7] = -1\n",
    "table[4][3] = 1\n",
    "table[0][6] = 1\n",
    "table[1][7] = 1\n",
    "table[3][7] = 2\n",
    "table[4][7] = 4\n",
    "\n",
    "for i in range(N):\n",
    "    print(table[i])"
   ]
  },
  {
   "cell_type": "code",
   "execution_count": 146,
   "metadata": {},
   "outputs": [],
   "source": [
    "# создаём задачу и говорим, что будем максимизировать целевую функцию\n",
    "portfolio = LpProblem(\"GazProm\", LpMaximize)"
   ]
  },
  {
   "cell_type": "code",
   "execution_count": 147,
   "metadata": {},
   "outputs": [],
   "source": [
    "# задаём целевую функцию и добавляем её в задачу\n",
    "# аффинная сумма между ci и (доходы - расходы) * ti\n",
    "function = LpAffineExpression([(c_i[i], (table[i][5]) * table[i][0]) for i in range(N)])\n",
    "portfolio += function, \"max\""
   ]
  },
  {
   "cell_type": "code",
   "execution_count": 148,
   "metadata": {},
   "outputs": [],
   "source": [
    "# добавляем условия в задачу\n",
    "# для каждого из проектов:\n",
    "for i in range(N):\n",
    "    if (table[i][7] != -1): # если проект зависит от другого проекта:\n",
    "        # xi >= xj + tj + tau_i + (1-ci)*2*t0\n",
    "        portfolio += x_i[i] - x_i[table[i][7] - 1] + c_i[i] * t0 >= table[table[i][7] - 1][0] + table[i][3] + t0, \"prev : \" + str(i+1)\n",
    "        # ci <= cj\n",
    "        portfolio += c_i[i] - c_i[table[i][7] - 1] <= 0, \"prev c_i : \" + str(i+1)\n",
    "    else:\n",
    "        # xi >= (1-ci)*2*t0\n",
    "        portfolio += x_i[i] + c_i[i] * t0 >= t0, \"no prev : \" + str(i+1)\n",
    "        # ci <= 1\n",
    "        portfolio += c_i[i] <= 1, \"no prev c_i : \" + str(i+1)\n",
    "    # xi <= t_st_i + (1-ci)*(5*t0-t_st_i)\n",
    "    portfolio += x_i[i] + c_i[i] * (10 * t0 - table[i][1]) <= table[i][1] + 10 * t0 - table[i][1], \"start time : \" + str(i+1)\n",
    "    # xi + ti <= t_end_i + (1-ci)*(5*t0-t_end_i)\n",
    "    portfolio += x_i[i] + c_i[i] * (10 * t0 - table[i][2]) <= table[i][2] + 10 * t0 - table[i][1] - table[i][0], \"end time : \" + str(i+1)\n",
    "    # ci >= c_0_i\n",
    "    portfolio += c_i[i] >= table[i][6], \"must or not : \" + str(i+1)"
   ]
  },
  {
   "cell_type": "code",
   "execution_count": 149,
   "metadata": {},
   "outputs": [],
   "source": [
    "# добавляем условие на общий бюджет\n",
    "# аффинная сумма ci и расходы * ti\n",
    "budjet = LpAffineExpression([(c_i[i], table[i][0] * table[i][4]) for i in range(N)])\n",
    "portfolio += budjet <= b0, \"budjet\""
   ]
  },
  {
   "cell_type": "code",
   "execution_count": 150,
   "metadata": {},
   "outputs": [
    {
     "data": {
      "text/plain": [
       "1"
      ]
     },
     "execution_count": 150,
     "metadata": {},
     "output_type": "execute_result"
    }
   ],
   "source": [
    "# решаем систему линейных уравнений\n",
    "portfolio.solve()"
   ]
  },
  {
   "cell_type": "code",
   "execution_count": 151,
   "metadata": {},
   "outputs": [
    {
     "name": "stdout",
     "output_type": "stream",
     "text": [
      "do_or_not_1 = 1.0\n",
      "do_or_not_2 = 1.0\n",
      "do_or_not_3 = 1.0\n",
      "do_or_not_4 = 0.0\n",
      "do_or_not_5 = 0.0\n",
      "proj_1 = 0.0\n",
      "proj_2 = 1.0\n",
      "proj_3 = 1.0\n",
      "proj_4 = 39.0\n",
      "proj_5 = 48.0\n"
     ]
    }
   ],
   "source": [
    "# выводим значения переменных\n",
    "for v in portfolio.variables():\n",
    "    print(v.name, \"=\", v.varValue)"
   ]
  },
  {
   "cell_type": "code",
   "execution_count": 152,
   "metadata": {},
   "outputs": [
    {
     "name": "stdout",
     "output_type": "stream",
     "text": [
      "max =  20.0\n"
     ]
    }
   ],
   "source": [
    "# выводим значение целевой функции\n",
    "print(\"max = \", value(portfolio.objective))"
   ]
  },
  {
   "cell_type": "code",
   "execution_count": 153,
   "metadata": {},
   "outputs": [],
   "source": [
    "portfolio.writeLP(\"seva.lp\")"
   ]
  },
  {
   "cell_type": "code",
   "execution_count": null,
   "metadata": {},
   "outputs": [],
   "source": []
  }
 ],
 "metadata": {
  "kernelspec": {
   "display_name": "Python 3",
   "language": "python",
   "name": "python3"
  },
  "language_info": {
   "codemirror_mode": {
    "name": "ipython",
    "version": 3
   },
   "file_extension": ".py",
   "mimetype": "text/x-python",
   "name": "python",
   "nbconvert_exporter": "python",
   "pygments_lexer": "ipython3",
   "version": "3.6.3"
  }
 },
 "nbformat": 4,
 "nbformat_minor": 2
}
